{
 "cells": [
  {
   "cell_type": "code",
   "execution_count": 30,
   "metadata": {},
   "outputs": [
    {
     "data": {
      "text/plain": [
       "'\\nfrom bs4 import BeautifulSoup\\nimport requests\\n#from pygameAnaylzer import gameAnaylzer\\nfrom pygameAnaylzer import gameAnaylzer\\nimport os\\n\\n'"
      ]
     },
     "execution_count": 30,
     "metadata": {},
     "output_type": "execute_result"
    }
   ],
   "source": [
    "'''\n",
    "from bs4 import BeautifulSoup\n",
    "import requests\n",
    "#from pygameAnaylzer import gameAnaylzer\n",
    "from pygameAnaylzer import gameAnaylzer\n",
    "import os\n",
    "\n",
    "'''\n",
    "#USE PYTHON ANACADONA 3.8.5 to RUN"
   ]
  },
  {
   "cell_type": "code",
   "execution_count": 31,
   "metadata": {},
   "outputs": [
    {
     "data": {
      "text/plain": [
       "'\\n#Gets Team\\n#teamCode = input(\"Enter Team Code\")\\n#year = input(\"Enter Season Year\")\\n#teamScheduleUrl = \"http://onlinecollegebasketball.org/schedule/\"+teamCode + \"/\" + year\\nteamCode = \"533\"\\nyear = \"2043\"\\nteamScheduleUrl = \"http://onlinecollegebasketball.org/schedule/533/2043\"\\npage2 = requests.get(teamScheduleUrl)\\nsoup2 = BeautifulSoup(page2.text,\"html\")\\n\\ndef save_html_to_file(content, filename):\\n    with open(filename, \\'w\\', encoding=\\'utf-8\\') as file:\\n        file.write(content)\\n\\n# Function to load HTML content from a local file\\ndef load_html_from_file(filename):\\n    with open(filename, \\'r\\', encoding=\\'utf-8\\') as file:\\n        return file.read()\\n    \\n\\ncache_folder = \"TeamsHTML\"\\ncache_filename = os.path.join(cache_folder, f\"{teamCode}_{year}.html\")\\n\\nif int(year) < int(\"2043\"): #change for current year\\n    try:\\n          # Try to load HTML content from the local cache\\n          html_content = load_html_from_file(cache_filename)\\n          #print(\"Content loaded from local cache.\")\\n    except FileNotFoundError:\\n          # If not found, fetch the content from the URL\\n          response = requests.get(teamScheduleUrl)\\n          html_content = response.text\\n\\n          # Save HTML content to the local cache\\n          save_html_to_file(html_content, cache_filename)\\n          #print(\"Content fetched from URL and saved to local cache.\")\\n    soup2 = BeautifulSoup(html_content,\"html\")\\nelse:\\n    page2 = requests.get(teamScheduleUrl)\\n    soup2 = BeautifulSoup(page2.text,\"html\")\\n'"
      ]
     },
     "execution_count": 31,
     "metadata": {},
     "output_type": "execute_result"
    }
   ],
   "source": [
    "'''\n",
    "#Gets Team\n",
    "#teamCode = input(\"Enter Team Code\")\n",
    "#year = input(\"Enter Season Year\")\n",
    "#teamScheduleUrl = \"http://onlinecollegebasketball.org/schedule/\"+teamCode + \"/\" + year\n",
    "teamCode = \"533\"\n",
    "year = \"2043\"\n",
    "teamScheduleUrl = \"http://onlinecollegebasketball.org/schedule/533/2043\"\n",
    "page2 = requests.get(teamScheduleUrl)\n",
    "soup2 = BeautifulSoup(page2.text,\"html\")\n",
    "\n",
    "def save_html_to_file(content, filename):\n",
    "    with open(filename, 'w', encoding='utf-8') as file:\n",
    "        file.write(content)\n",
    "\n",
    "# Function to load HTML content from a local file\n",
    "def load_html_from_file(filename):\n",
    "    with open(filename, 'r', encoding='utf-8') as file:\n",
    "        return file.read()\n",
    "    \n",
    "\n",
    "cache_folder = \"TeamsHTML\"\n",
    "cache_filename = os.path.join(cache_folder, f\"{teamCode}_{year}.html\")\n",
    "\n",
    "if int(year) < int(\"2043\"): #change for current year\n",
    "    try:\n",
    "          # Try to load HTML content from the local cache\n",
    "          html_content = load_html_from_file(cache_filename)\n",
    "          #print(\"Content loaded from local cache.\")\n",
    "    except FileNotFoundError:\n",
    "          # If not found, fetch the content from the URL\n",
    "          response = requests.get(teamScheduleUrl)\n",
    "          html_content = response.text\n",
    "\n",
    "          # Save HTML content to the local cache\n",
    "          save_html_to_file(html_content, cache_filename)\n",
    "          #print(\"Content fetched from URL and saved to local cache.\")\n",
    "    soup2 = BeautifulSoup(html_content,\"html\")\n",
    "else:\n",
    "    page2 = requests.get(teamScheduleUrl)\n",
    "    soup2 = BeautifulSoup(page2.text,\"html\")\n",
    "'''"
   ]
  },
  {
   "cell_type": "code",
   "execution_count": 32,
   "metadata": {},
   "outputs": [
    {
     "data": {
      "text/plain": [
       "'\\ncolumnList = soup2.find_all(\"tr\")\\ntotalGameLinks = []\\nconGameLinks = []\\nplayoffGameLinks = []\\ntournamentGameLinks = []\\n\\nfor row in columnList:\\n    rowData = row.find_all(\"td\")\\n    if len(rowData) == 8 and rowData[5].text != \"NPY\":\\n      totalGameLinks.append (\"http://onlinecollegebasketball.org\" + rowData[5].find(\"a\").get(\"href\"))\\n      if rowData[2].text == \"Conference\":\\n        conGameLinks.append(\"http://onlinecollegebasketball.org\" + rowData[5].find(\"a\").get(\"href\"))\\n      elif rowData[2].text == \"Playoff\":\\n        playoffGameLinks.append(\"http://onlinecollegebasketball.org\" + rowData[5].find(\"a\").get(\"href\"))\\n      elif rowData[2].text == \"Tournament\":\\n        tournamentGameLinks.append(\"http://onlinecollegebasketball.org\" + rowData[5].find(\"a\").get(\"href\"))\\n\\n\\n'"
      ]
     },
     "execution_count": 32,
     "metadata": {},
     "output_type": "execute_result"
    }
   ],
   "source": [
    "'''\n",
    "columnList = soup2.find_all(\"tr\")\n",
    "totalGameLinks = []\n",
    "conGameLinks = []\n",
    "playoffGameLinks = []\n",
    "tournamentGameLinks = []\n",
    "\n",
    "for row in columnList:\n",
    "    rowData = row.find_all(\"td\")\n",
    "    if len(rowData) == 8 and rowData[5].text != \"NPY\":\n",
    "      totalGameLinks.append (\"http://onlinecollegebasketball.org\" + rowData[5].find(\"a\").get(\"href\"))\n",
    "      if rowData[2].text == \"Conference\":\n",
    "        conGameLinks.append(\"http://onlinecollegebasketball.org\" + rowData[5].find(\"a\").get(\"href\"))\n",
    "      elif rowData[2].text == \"Playoff\":\n",
    "        playoffGameLinks.append(\"http://onlinecollegebasketball.org\" + rowData[5].find(\"a\").get(\"href\"))\n",
    "      elif rowData[2].text == \"Tournament\":\n",
    "        tournamentGameLinks.append(\"http://onlinecollegebasketball.org\" + rowData[5].find(\"a\").get(\"href\"))\n",
    "\n",
    "\n",
    "'''"
   ]
  },
  {
   "cell_type": "code",
   "execution_count": null,
   "metadata": {},
   "outputs": [
    {
     "name": "stdout",
     "output_type": "stream",
     "text": [
      "Raw file content:\n",
      "<class 'str'>\n"
     ]
    },
    {
     "ename": "TypeError",
     "evalue": "string indices must be integers",
     "output_type": "error",
     "traceback": [
      "\u001b[1;31m---------------------------------------------------------------------------\u001b[0m",
      "\u001b[1;31mTypeError\u001b[0m                                 Traceback (most recent call last)",
      "Cell \u001b[1;32mIn[33], line 28\u001b[0m\n\u001b[0;32m     26\u001b[0m teamTotalData \u001b[38;5;241m=\u001b[39m []\n\u001b[0;32m     27\u001b[0m \u001b[38;5;28;01mfor\u001b[39;00m games \u001b[38;5;129;01min\u001b[39;00m anaylzedGames:\n\u001b[1;32m---> 28\u001b[0m     \u001b[38;5;28;01mif\u001b[39;00m \u001b[43mgames\u001b[49m\u001b[43m[\u001b[49m\u001b[38;5;124;43m'\u001b[39;49m\u001b[38;5;124;43mawayTeam\u001b[39;49m\u001b[38;5;124;43m'\u001b[39;49m\u001b[43m]\u001b[49m[\u001b[38;5;124m'\u001b[39m\u001b[38;5;124mteamCode\u001b[39m\u001b[38;5;124m'\u001b[39m] \u001b[38;5;241m==\u001b[39m teamCode:\n\u001b[0;32m     29\u001b[0m       teamTotalData\u001b[38;5;241m.\u001b[39mappend(games[\u001b[38;5;124m'\u001b[39m\u001b[38;5;124mawayTeam\u001b[39m\u001b[38;5;124m'\u001b[39m])\n\u001b[0;32m     30\u001b[0m     \u001b[38;5;28;01melse\u001b[39;00m: \n",
      "\u001b[1;31mTypeError\u001b[0m: string indices must be integers"
     ]
    }
   ],
   "source": [
    "'''\n",
    "gameLinks = totalGameLinks\n",
    "\n",
    "anaylzedGames = [] \n",
    "for games in gameLinks: #Finds analyzedGames for all given gameType \n",
    "    anaylzedGames.append(gameAnaylzer(games)) \n",
    "'''\n",
    "filename = 'analyzedGames.txt'\n",
    "\n",
    "# Try to open and read the fil\n",
    "\n",
    "\n",
    "teamCode = \"533\"\n",
    "anaylzedGames = [{'awayTeam': {'name': 'Assumption Greyhounds', 'teamCode': '533', 'players': [{'name': 'Pruitt', 'playerCode': '196605', 'position': 'SF', 'shots': {'Finishing': [0, 0], 'Inside Shot': [2, 3], 'Mid-Range': [3, 4], '3-Pointer': [3, 9]}, 'driving': [0, 0]}, {'name': 'Chappell', 'playerCode': '188339', 'position': 'PF', 'shots': {'Finishing': [0, 0], 'Inside Shot': [2, 6], 'Mid-Range': [0, 0], '3-Pointer': [0, 0]}, 'driving': [0, 0]}, {'name': 'Lay', 'playerCode': '199449', 'position': 'C', 'shots': {'Finishing': [0, 0], 'Inside Shot': [2, 5], 'Mid-Range': [0, 0], '3-Pointer': [0, 0]}, 'driving': [0, 2]}, {'name': 'Lewis', 'playerCode': '195977', 'position': 'SG', 'shots': {'Finishing': [0, 0], 'Inside Shot': [0, 0], 'Mid-Range': [1, 3], '3-Pointer': [5, 7]}, 'driving': [2, 6]}, {'name': 'Munoz', 'playerCode': '190887', 'position': 'PG', 'shots': {'Finishing': [2, 3], 'Inside Shot': [0, 0], 'Mid-Range': [0, 2], '3-Pointer': [3, 8]}, 'driving': [8, 11]}, {'name': 'Walker', 'playerCode': '206112', 'position': 'PF', 'shots': {'Finishing': [0, 0], 'Inside Shot': [3, 5], 'Mid-Range': [0, 0], '3-Pointer': [0, 0]}, 'driving': [0, 0]}, {'name': 'Murphy', 'playerCode': '198167', 'position': 'PG', 'shots': {'Finishing': [1, 1], 'Inside Shot': [0, 0], 'Mid-Range': [1, 2], '3-Pointer': [0, 3]}, 'driving': [0, 2]}, {'name': 'Perkins', 'playerCode': '202447', 'position': 'SG', 'shots': {'Finishing': [0, 0], 'Inside Shot': [0, 0], 'Mid-Range': [1, 3], '3-Pointer': [1, 5]}, 'driving': [1, 1]}, {'name': 'Schwarz', 'playerCode': '205173', 'position': 'C', 'shots': {'Finishing': [0, 0], 'Inside Shot': [1, 6], 'Mid-Range': [0, 0], '3-Pointer': [0, 0]}, 'driving': [0, 0]}, {'name': 'Jaramillo', 'playerCode': '205369', 'position': 'SF', 'shots': {'Finishing': [0, 0], 'Inside Shot': [0, 0], 'Mid-Range': [0, 0], '3-Pointer': [2, 4]}, 'driving': [0, 0]}], 'totalShots': {'Finishing': [3, 4], 'Inside Shot': [10, 25], 'Mid-Range': [6, 14], '3-Pointer': [14, 36]}, 'totalDriving': [11, 22], 'defense': {'man-to-man': {'Finishing': [0, 0], 'Inside Shot': [0, 1], 'Mid-Range': [2, 2], '3-Pointer': [1, 3], 'Turnovers': [2, 8]}, 'man-to-man defense packed': {'Finishing': [0, 0], 'Inside Shot': [0, 0], 'Mid-Range': [0, 0], '3-Pointer': [0, 0], 'Turnovers': [0, 0]}, 'man-to-man defense extended': {'Finishing': [0, 0], 'Inside Shot': [1, 2], 'Mid-Range': [0, 0], '3-Pointer': [1, 3], 'Turnovers': [1, 6]}, 'zone': {'Finishing': [0, 1], 'Inside Shot': [3, 7], 'Mid-Range': [0, 1], '3-Pointer': [2, 2], 'Turnovers': [2, 13]}, 'zone defense packed': {'Finishing': [0, 0], 'Inside Shot': [0, 0], 'Mid-Range': [0, 0], '3-Pointer': [0, 0], 'Turnovers': [0, 0]}, 'zone defense extended': {'Finishing': [0, 0], 'Inside Shot': [0, 3], 'Mid-Range': [1, 1], '3-Pointer': [0, 1], 'Turnovers': [0, 5]}, 'pressure': {'Finishing': [0, 1], 'Inside Shot': [6, 6], 'Mid-Range': [1, 3], '3-Pointer': [4, 6], 'Turnovers': [8, 24]}, 'transition': {'Finishing': [2, 3], 'Inside Shot': [0, 0], 'Mid-Range': [0, 0], '3-Pointer': [2, 4], 'Turnovers': [0, 7]}, 'half-court': {'Finishing': [0, 0], 'Inside Shot': [3, 6], 'Mid-Range': [1, 2], '3-Pointer': [3, 6], 'Turnovers': [0, 14]}}}, 'homeTeam': {'name': 'UMass Dartmouth Corsairs', 'teamCode': '890', 'players': [{'name': 'Rodgers', 'playerCode': '192483', 'position': 'SF', 'shots': {'Finishing': [0, 0], 'Inside Shot': [1, 2], 'Mid-Range': [1, 2], '3-Pointer': [6, 11]}, 'driving': [0, 0]}, {'name': 'Mays', 'playerCode': '192315', 'position': 'PF', 'shots': {'Finishing': [0, 0], 'Inside Shot': [1, 6], 'Mid-Range': [0, 1], '3-Pointer': [0, 0]}, 'driving': [1, 1]}, {'name': 'Bearden', 'playerCode': '190703', 'position': 'C', 'shots': {'Finishing': [0, 0], 'Inside Shot': [8, 12], 'Mid-Range': [0, 0], '3-Pointer': [1, 2]}, 'driving': [0, 0]}, {'name': 'Murphay', 'playerCode': '202047', 'position': 'SG', 'shots': {'Finishing': [1, 2], 'Inside Shot': [2, 3], 'Mid-Range': [1, 2], '3-Pointer': [1, 4]}, 'driving': [0, 1]}, {'name': 'Betz', 'playerCode': '195590', 'position': 'PG', 'shots': {'Finishing': [0, 2], 'Inside Shot': [0, 0], 'Mid-Range': [3, 3], '3-Pointer': [3, 3]}, 'driving': [8, 12]}, {'name': 'Reynolds', 'playerCode': '195520', 'position': 'PF', 'shots': {'Finishing': [0, 0], 'Inside Shot': [0, 1], 'Mid-Range': [0, 0], '3-Pointer': [0, 0]}, 'driving': [0, 0]}, {'name': 'Markham', 'playerCode': '200309', 'position': 'SF', 'shots': {'Finishing': [0, 0], 'Inside Shot': [0, 0], 'Mid-Range': [0, 0], '3-Pointer': [0, 1]}, 'driving': [0, 0]}, {'name': 'Gorski', 'playerCode': '199255', 'position': 'SG', 'shots': {'Finishing': [1, 1], 'Inside Shot': [1, 1], 'Mid-Range': [0, 1], '3-Pointer': [1, 2]}, 'driving': [0, 0]}, {'name': 'Sailer', 'playerCode': '189889', 'position': 'PG', 'shots': {'Finishing': [0, 0], 'Inside Shot': [0, 0], 'Mid-Range': [0, 0], '3-Pointer': [1, 2]}, 'driving': [1, 3]}], 'totalShots': {'Finishing': [2, 5], 'Inside Shot': [13, 25], 'Mid-Range': [5, 9], '3-Pointer': [13, 25]}, 'totalDriving': [10, 17], 'defense': {'man-to-man': {'Finishing': [0, 0], 'Inside Shot': [2, 2], 'Mid-Range': [1, 4], '3-Pointer': [4, 8], 'Turnovers': [1, 15]}, 'man-to-man defense packed': {'Finishing': [0, 0], 'Inside Shot': [0, 0], 'Mid-Range': [0, 0], '3-Pointer': [0, 0], 'Turnovers': [0, 0]}, 'man-to-man defense extended': {'Finishing': [1, 1], 'Inside Shot': [3, 4], 'Mid-Range': [2, 4], '3-Pointer': [2, 3], 'Turnovers': [3, 15]}, 'zone': {'Finishing': [0, 1], 'Inside Shot': [1, 4], 'Mid-Range': [0, 0], '3-Pointer': [3, 9], 'Turnovers': [0, 14]}, 'zone defense packed': {'Finishing': [0, 0], 'Inside Shot': [0, 0], 'Mid-Range': [0, 0], '3-Pointer': [0, 0], 'Turnovers': [0, 0]}, 'zone defense extended': {'Finishing': [1, 1], 'Inside Shot': [0, 1], 'Mid-Range': [1, 2], '3-Pointer': [2, 6], 'Turnovers': [1, 11]}, 'pressure': {'Finishing': [0, 0], 'Inside Shot': [0, 2], 'Mid-Range': [0, 0], '3-Pointer': [0, 0], 'Turnovers': [1, 3]}, 'transition': {'Finishing': [1, 1], 'Inside Shot': [0, 0], 'Mid-Range': [0, 0], '3-Pointer': [0, 3], 'Turnovers': [0, 4]}, 'half-court': {'Finishing': [0, 0], 'Inside Shot': [4, 12], 'Mid-Range': [2, 4], '3-Pointer': [3, 7], 'Turnovers': [5, 28]}}}}, {'awayTeam': {'name': 'Assumption Greyhounds', 'teamCode': '533', 'players': [{'name': 'Pruitt', 'playerCode': '196605', 'position': 'SF', 'shots': {'Finishing': [0, 0], 'Inside Shot': [0, 2], 'Mid-Range': [0, 0], '3-Pointer': [4, 7]}, 'driving': [0, 0]}, {'name': 'Chappell', 'playerCode': '188339', 'position': 'PF', 'shots': {'Finishing': [0, 0], 'Inside Shot': [1, 2], 'Mid-Range': [0, 0], '3-Pointer': [0, 0]}, 'driving': [0, 1]}, {'name': 'Lay', 'playerCode': '199449', 'position': 'C', 'shots': {'Finishing': [0, 0], 'Inside Shot': [4, 5], 'Mid-Range': [0, 1], '3-Pointer': [0, 0]}, 'driving': [0, 1]}, {'name': 'Lewis', 'playerCode': '195977', 'position': 'SG', 'shots': {'Finishing': [1, 1], 'Inside Shot': [0, 1], 'Mid-Range': [0, 0], '3-Pointer': [1, 7]}, 'driving': [2, 3]}, {'name': 'Munoz', 'playerCode': '190887', 'position': 'PG', 'shots': {'Finishing': [1, 2], 'Inside Shot': [0, 1], 'Mid-Range': [2, 3], '3-Pointer': [1, 4]}, 'driving': [9, 17]}, {'name': 'Schwarz', 'playerCode': '205173', 'position': 'C', 'shots': {'Finishing': [0, 0], 'Inside Shot': [5, 5], 'Mid-Range': [0, 0], '3-Pointer': [0, 0]}, 'driving': [0, 1]}, {'name': 'Murphy', 'playerCode': '198167', 'position': 'PG', 'shots': {'Finishing': [0, 0], 'Inside Shot': [0, 0], 'Mid-Range': [0, 1], '3-Pointer': [0, 1]}, 'driving': [2, 4]}, {'name': 'Jaramillo', 'playerCode': '205369', 'position': 'SF', 'shots': {'Finishing': [1, 1], 'Inside Shot': [1, 1], 'Mid-Range': [3, 5], '3-Pointer': [1, 3]}, 'driving': [0, 0]}, {'name': 'Walker', 'playerCode': '206112', 'position': 'PF', 'shots': {'Finishing': [0, 0], 'Inside Shot': [1, 1], 'Mid-Range': [0, 0], '3-Pointer': [0, 0]}, 'driving': [0, 0]}, {'name': 'Perkins', 'playerCode': '202447', 'position': 'SG', 'shots': {'Finishing': [0, 0], 'Inside Shot': [1, 1], 'Mid-Range': [1, 1], '3-Pointer': [0, 4]}, 'driving': [0, 0]}], 'totalShots': {'Finishing': [3, 4], 'Inside Shot': [13, 19], 'Mid-Range': [6, 11], '3-Pointer': [7, 26]}, 'totalDriving': [13, 27], 'defense': {'man-to-man': {'Finishing': [0, 0], 'Inside Shot': [3, 4], 'Mid-Range': [2, 3], '3-Pointer': [1, 4], 'Turnovers': [3, 14]}, 'man-to-man defense packed': {'Finishing': [0, 0], 'Inside Shot': [0, 0], 'Mid-Range': [0, 0], '3-Pointer': [0, 0], 'Turnovers': [0, 0]}, 'man-to-man defense extended': {'Finishing': [0, 0], 'Inside Shot': [0, 0], 'Mid-Range': [0, 0], '3-Pointer': [0, 0], 'Turnovers': [0, 0]}, 'zone': {'Finishing': [0, 0], 'Inside Shot': [1, 4], 'Mid-Range': [4, 6], '3-Pointer': [3, 6], 'Turnovers': [3, 19]}, 'zone defense packed': {'Finishing': [0, 0], 'Inside Shot': [0, 0], 'Mid-Range': [0, 0], '3-Pointer': [0, 0], 'Turnovers': [0, 0]}, 'zone defense extended': {'Finishing': [0, 0], 'Inside Shot': [0, 0], 'Mid-Range': [0, 0], '3-Pointer': [0, 0], 'Turnovers': [0, 0]}, 'pressure': {'Finishing': [1, 1], 'Inside Shot': [2, 4], 'Mid-Range': [0, 2], '3-Pointer': [0, 5], 'Turnovers': [4, 16]}, 'transition': {'Finishing': [1, 1], 'Inside Shot': [0, 0], 'Mid-Range': [0, 0], '3-Pointer': [1, 4], 'Turnovers': [0, 5]}, 'half-court': {'Finishing': [0, 0], 'Inside Shot': [1, 5], 'Mid-Range': [1, 2], '3-Pointer': [1, 5], 'Turnovers': [8, 20]}}}, 'homeTeam': {'name': 'Roger Williams Hawks', 'teamCode': '965', 'players': [{'name': 'Jenkins', 'playerCode': '198269', 'position': 'SF', 'shots': {'Finishing': [0, 0], 'Inside Shot': [2, 3], 'Mid-Range': [2, 4], '3-Pointer': [2, 6]}, 'driving': [0, 0]}, {'name': 'Washburn', 'playerCode': '208123', 'position': 'PF', 'shots': {'Finishing': [0, 0], 'Inside Shot': [1, 4], 'Mid-Range': [1, 3], '3-Pointer': [0, 1]}, 'driving': [0, 0]}, {'name': 'Lofton', 'playerCode': '202489', 'position': 'C', 'shots': {'Finishing': [0, 0], 'Inside Shot': [2, 6], 'Mid-Range': [1, 1], '3-Pointer': [0, 0]}, 'driving': [0, 0]}, {'name': 'Russell', 'playerCode': '200765', 'position': 'SG', 'shots': {'Finishing': [1, 1], 'Inside Shot': [0, 1], 'Mid-Range': [1, 1], '3-Pointer': [3, 8]}, 'driving': [5, 7]}, {'name': 'Moulton', 'playerCode': '201601', 'position': 'PG', 'shots': {'Finishing': [0, 0], 'Inside Shot': [0, 0], 'Mid-Range': [1, 1], '3-Pointer': [1, 5]}, 'driving': [1, 1]}, {'name': 'Braun', 'playerCode': '194108', 'position': 'C', 'shots': {'Finishing': [0, 0], 'Inside Shot': [1, 1], 'Mid-Range': [0, 0], '3-Pointer': [0, 0]}, 'driving': [0, 0]}, {'name': 'Brown', 'playerCode': '200348', 'position': 'PG', 'shots': {'Finishing': [0, 0], 'Inside Shot': [0, 0], 'Mid-Range': [0, 0], '3-Pointer': [0, 0]}, 'driving': [0, 0]}, {'name': 'Sturgeon', 'playerCode': '197412', 'position': 'SF', 'shots': {'Finishing': [0, 0], 'Inside Shot': [0, 1], 'Mid-Range': [0, 1], '3-Pointer': [0, 4]}, 'driving': [0, 0]}, {'name': 'Sager', 'playerCode': '209556', 'position': 'SG', 'shots': {'Finishing': [1, 1], 'Inside Shot': [1, 1], 'Mid-Range': [1, 2], '3-Pointer': [0, 0]}, 'driving': [0, 0]}, {'name': 'Pennington', 'playerCode': '215106', 'position': 'PF', 'shots': {'Finishing': [0, 0], 'Inside Shot': [0, 0], 'Mid-Range': [0, 0], '3-Pointer': [0, 0]}, 'driving': [0, 1]}], 'totalShots': {'Finishing': [2, 2], 'Inside Shot': [7, 17], 'Mid-Range': [7, 13], '3-Pointer': [6, 24]}, 'totalDriving': [6, 9], 'defense': {'man-to-man': {'Finishing': [1, 2], 'Inside Shot': [6, 10], 'Mid-Range': [4, 6], '3-Pointer': [3, 13], 'Turnovers': [2, 33]}, 'man-to-man defense packed': {'Finishing': [0, 0], 'Inside Shot': [0, 0], 'Mid-Range': [0, 0], '3-Pointer': [0, 0], 'Turnovers': [0, 0]}, 'man-to-man defense extended': {'Finishing': [0, 0], 'Inside Shot': [0, 0], 'Mid-Range': [0, 0], '3-Pointer': [0, 0], 'Turnovers': [0, 0]}, 'zone': {'Finishing': [0, 0], 'Inside Shot': [2, 4], 'Mid-Range': [1, 3], '3-Pointer': [1, 3], 'Turnovers': [2, 12]}, 'zone defense packed': {'Finishing': [0, 0], 'Inside Shot': [0, 0], 'Mid-Range': [0, 0], '3-Pointer': [0, 0], 'Turnovers': [0, 0]}, 'zone defense extended': {'Finishing': [0, 0], 'Inside Shot': [0, 0], 'Mid-Range': [0, 0], '3-Pointer': [0, 0], 'Turnovers': [0, 0]}, 'pressure': {'Finishing': [0, 0], 'Inside Shot': [0, 0], 'Mid-Range': [0, 1], '3-Pointer': [1, 2], 'Turnovers': [0, 3]}, 'transition': {'Finishing': [2, 2], 'Inside Shot': [0, 0], 'Mid-Range': [0, 0], '3-Pointer': [2, 3], 'Turnovers': [0, 5]}, 'half-court': {'Finishing': [0, 0], 'Inside Shot': [5, 5], 'Mid-Range': [1, 1], '3-Pointer': [0, 5], 'Turnovers': [2, 13]}}}}, {'awayTeam': {'name': 'Assumption Greyhounds', 'teamCode': '533', 'players': [{'name': 'Pruitt', 'playerCode': '196605', 'position': 'SF', 'shots': {'Finishing': [0, 0], 'Inside Shot': [2, 2], 'Mid-Range': [0, 1], '3-Pointer': [3, 7]}, 'driving': [0, 0]}, {'name': 'Chappell', 'playerCode': '188339', 'position': 'PF', 'shots': {'Finishing': [0, 0], 'Inside Shot': [3, 4], 'Mid-Range': [0, 0], '3-Pointer': [0, 0]}, 'driving': [0, 0]}, {'name': 'Lay', 'playerCode': '199449', 'position': 'C', 'shots': {'Finishing': [0, 0], 'Inside Shot': [2, 4], 'Mid-Range': [0, 0], '3-Pointer': [0, 0]}, 'driving': [3, 4]}, {'name': 'Lewis', 'playerCode': '195977', 'position': 'SG', 'shots': {'Finishing': [1, 1], 'Inside Shot': [2, 2], 'Mid-Range': [1, 1], '3-Pointer': [5, 12]}, 'driving': [0, 0]}, {'name': 'Munoz', 'playerCode': '190887', 'position': 'PG', 'shots': {'Finishing': [5, 5], 'Inside Shot': [0, 0], 'Mid-Range': [2, 6], '3-Pointer': [1, 4]}, 'driving': [4, 13]}, {'name': 'Perkins', 'playerCode': '202447', 'position': 'SG', 'shots': {'Finishing': [0, 0], 'Inside Shot': [0, 1], 'Mid-Range': [0, 0], '3-Pointer': [0, 1]}, 'driving': [0, 1]}, {'name': 'Schwarz', 'playerCode': '205173', 'position': 'PF', 'shots': {'Finishing': [0, 0], 'Inside Shot': [1, 3], 'Mid-Range': [0, 1], '3-Pointer': [0, 0]}, 'driving': [0, 0]}, {'name': 'Jaramillo', 'playerCode': '205369', 'position': 'SF', 'shots': {'Finishing': [0, 0], 'Inside Shot': [0, 0], 'Mid-Range': [0, 0], '3-Pointer': [0, 2]}, 'driving': [0, 0]}, {'name': 'Walker', 'playerCode': '206112', 'position': 'C', 'shots': {'Finishing': [0, 0], 'Inside Shot': [2, 5], 'Mid-Range': [1, 2], '3-Pointer': [0, 0]}, 'driving': [0, 0]}, {'name': 'Murphy', 'playerCode': '198167', 'position': 'PG', 'shots': {'Finishing': [1, 1], 'Inside Shot': [0, 0], 'Mid-Range': [0, 0], '3-Pointer': [3, 5]}, 'driving': [0, 0]}], 'totalShots': {'Finishing': [7, 7], 'Inside Shot': [12, 21], 'Mid-Range': [4, 11], '3-Pointer': [12, 31]}, 'totalDriving': [7, 18], 'defense': {'man-to-man': {'Finishing': [0, 0], 'Inside Shot': [5, 8], 'Mid-Range': [1, 3], '3-Pointer': [1, 1], 'Turnovers': [2, 14]}, 'man-to-man defense packed': {'Finishing': [0, 0], 'Inside Shot': [0, 0], 'Mid-Range': [0, 0], '3-Pointer': [0, 0], 'Turnovers': [0, 0]}, 'man-to-man defense extended': {'Finishing': [0, 0], 'Inside Shot': [0, 0], 'Mid-Range': [0, 0], '3-Pointer': [0, 0], 'Turnovers': [0, 0]}, 'zone': {'Finishing': [0, 1], 'Inside Shot': [2, 6], 'Mid-Range': [0, 1], '3-Pointer': [2, 7], 'Turnovers': [4, 19]}, 'zone defense packed': {'Finishing': [0, 0], 'Inside Shot': [0, 0], 'Mid-Range': [0, 0], '3-Pointer': [0, 0], 'Turnovers': [0, 0]}, 'zone defense extended': {'Finishing': [0, 0], 'Inside Shot': [0, 0], 'Mid-Range': [0, 0], '3-Pointer': [0, 0], 'Turnovers': [0, 0]}, 'pressure': {'Finishing': [0, 0], 'Inside Shot': [1, 2], 'Mid-Range': [0, 1], '3-Pointer': [0, 6], 'Turnovers': [7, 16]}, 'transition': {'Finishing': [5, 6], 'Inside Shot': [1, 1], 'Mid-Range': [0, 0], '3-Pointer': [1, 2], 'Turnovers': [0, 9]}, 'half-court': {'Finishing': [0, 0], 'Inside Shot': [3, 8], 'Mid-Range': [2, 5], '3-Pointer': [0, 2], 'Turnovers': [7, 22]}}}, 'homeTeam': {'name': 'Boston University Terriers', 'teamCode': '192', 'players': [{'name': 'Davis', 'playerCode': '200547', 'position': 'SF', 'shots': {'Finishing': [0, 2], 'Inside Shot': [0, 1], 'Mid-Range': [0, 2], '3-Pointer': [1, 3]}, 'driving': [3, 6]}, {'name': 'McGuire', 'playerCode': '193312', 'position': 'PF', 'shots': {'Finishing': [0, 0], 'Inside Shot': [7, 10], 'Mid-Range': [1, 2], '3-Pointer': [0, 2]}, 'driving': [0, 0]}, {'name': 'John', 'playerCode': '199143', 'position': 'C', 'shots': {'Finishing': [0, 0], 'Inside Shot': [2, 5], 'Mid-Range': [0, 2], '3-Pointer': [0, 1]}, 'driving': [0, 0]}, {'name': 'Mathis', 'playerCode': '188726', 'position': 'SG', 'shots': {'Finishing': [2, 2], 'Inside Shot': [0, 2], 'Mid-Range': [1, 2], '3-Pointer': [0, 5]}, 'driving': [1, 2]}, {'name': 'Lee', 'playerCode': '190478', 'position': 'PG', 'shots': {'Finishing': [1, 1], 'Inside Shot': [1, 2], 'Mid-Range': [0, 1], '3-Pointer': [3, 4]}, 'driving': [1, 1]}, {'name': 'Reeves', 'playerCode': '204406', 'position': 'SG', 'shots': {'Finishing': [1, 1], 'Inside Shot': [0, 0], 'Mid-Range': [0, 0], '3-Pointer': [0, 1]}, 'driving': [0, 0]}, {'name': 'Byrd', 'playerCode': '206492', 'position': 'SF', 'shots': {'Finishing': [1, 1], 'Inside Shot': [0, 1], 'Mid-Range': [1, 1], '3-Pointer': [0, 1]}, 'driving': [0, 0]}, {'name': 'Lovelace', 'playerCode': '197894', 'position': 'C', 'shots': {'Finishing': [0, 0], 'Inside Shot': [2, 4], 'Mid-Range': [0, 0], '3-Pointer': [0, 1]}, 'driving': [0, 1]}], 'totalShots': {'Finishing': [5, 7], 'Inside Shot': [12, 25], 'Mid-Range': [3, 10], '3-Pointer': [4, 18]}, 'totalDriving': [5, 10], 'defense': {'man-to-man': {'Finishing': [0, 0], 'Inside Shot': [5, 8], 'Mid-Range': [1, 5], '3-Pointer': [3, 8], 'Turnovers': [3, 24]}, 'man-to-man defense packed': {'Finishing': [0, 0], 'Inside Shot': [0, 0], 'Mid-Range': [0, 0], '3-Pointer': [0, 0], 'Turnovers': [0, 0]}, 'man-to-man defense extended': {'Finishing': [1, 1], 'Inside Shot': [0, 0], 'Mid-Range': [0, 0], '3-Pointer': [0, 0], 'Turnovers': [1, 2]}, 'zone': {'Finishing': [1, 1], 'Inside Shot': [1, 3], 'Mid-Range': [2, 3], '3-Pointer': [3, 8], 'Turnovers': [2, 17]}, 'zone defense packed': {'Finishing': [0, 0], 'Inside Shot': [0, 0], 'Mid-Range': [0, 0], '3-Pointer': [0, 0], 'Turnovers': [0, 0]}, 'zone defense extended': {'Finishing': [0, 0], 'Inside Shot': [0, 0], 'Mid-Range': [0, 0], '3-Pointer': [0, 0], 'Turnovers': [0, 0]}, 'pressure': {'Finishing': [0, 0], 'Inside Shot': [0, 0], 'Mid-Range': [0, 1], '3-Pointer': [0, 1], 'Turnovers': [1, 3]}, 'transition': {'Finishing': [5, 5], 'Inside Shot': [0, 0], 'Mid-Range': [0, 0], '3-Pointer': [4, 6], 'Turnovers': [0, 11]}, 'half-court': {'Finishing': [0, 0], 'Inside Shot': [6, 10], 'Mid-Range': [1, 2], '3-Pointer': [2, 8], 'Turnovers': [6, 26]}}}}]{'Finishing': [0, 0], 'Inside Shot': [0, 0], 'Mid-Range': [0, 1], '3-Pointer': [0, 1], 'Turnovers': [1, 3]}, 'transition': {'Finishing': [5, 5], 'Inside Shot': [0, 0], 'Mid-Range': [0, 0], '3-Pointer': [4, 6], 'Turnovers': [0, 11]}, 'half-court': {'Finishing': [0, 0], 'Inside Shot': [6, 10], 'Mid-Range': [1, 2], '3-Pointer': [2, 8], 'Turnovers': [6, 26]}}}}]\n",
    "\n",
    "  #Puts together Game Data for the Given Team for Every Game Played\n",
    "teamTotalData = []\n",
    "for games in anaylzedGames:\n",
    "    if games['awayTeam']['teamCode'] == teamCode:\n",
    "      teamTotalData.append(games['awayTeam'])\n",
    "    else: \n",
    "      teamTotalData.append(games['homeTeam'])\n",
    "\n",
    "print(anaylzedGames)"
   ]
  },
  {
   "cell_type": "code",
   "execution_count": 25,
   "metadata": {},
   "outputs": [
    {
     "ename": "IndexError",
     "evalue": "list index out of range",
     "output_type": "error",
     "traceback": [
      "\u001b[1;31m---------------------------------------------------------------------------\u001b[0m",
      "\u001b[1;31mIndexError\u001b[0m                                Traceback (most recent call last)",
      "Cell \u001b[1;32mIn[25], line 2\u001b[0m\n\u001b[0;32m      1\u001b[0m \u001b[38;5;66;03m#Calculates Total Season Stats\u001b[39;00m\n\u001b[1;32m----> 2\u001b[0m fullPlayerStats \u001b[38;5;241m=\u001b[39m \u001b[43mteamTotalData\u001b[49m\u001b[43m[\u001b[49m\u001b[38;5;241;43m0\u001b[39;49m\u001b[43m]\u001b[49m\n\u001b[0;32m      5\u001b[0m \u001b[38;5;28;01mfor\u001b[39;00m data \u001b[38;5;129;01min\u001b[39;00m teamTotalData:\n\u001b[0;32m      6\u001b[0m     \u001b[38;5;28;01mif\u001b[39;00m data \u001b[38;5;241m!=\u001b[39m fullPlayerStats:\n\u001b[0;32m      7\u001b[0m       \u001b[38;5;66;03m#Now check if a player's name in data is in FullPlayerStats\u001b[39;00m\n",
      "\u001b[1;31mIndexError\u001b[0m: list index out of range"
     ]
    }
   ],
   "source": [
    "#Calculates Total Season Stats\n",
    "fullPlayerStats = teamTotalData[0]\n",
    "\n",
    "\n",
    "for data in teamTotalData:\n",
    "    if data != fullPlayerStats:\n",
    "      #Now check if a player's name in data is in FullPlayerStats\n",
    "      for dataPlayer in data[\"players\"]:\n",
    "        dataPlayerName = dataPlayer[\"name\"]\n",
    "        if not any(player['name'] == dataPlayerName for player in fullPlayerStats['players']): #If player isn't found in fullPlayerStats add it \n",
    "          fullPlayerStats[\"players\"].append(dataPlayer)\n",
    "        else:\n",
    "          for index, player in enumerate(fullPlayerStats[\"players\"]): # finds index of player in fullPlayerStats\n",
    "            if player[\"name\"] == dataPlayerName:\n",
    "              fullPlayerStats[\"players\"][index][\"driving\"][0] += dataPlayer[\"driving\"][0]\n",
    "              fullPlayerStats[\"players\"][index][\"driving\"][1] += dataPlayer[\"driving\"][1]\n",
    "              fullPlayerStats[\"totalDriving\"][0] += dataPlayer[\"driving\"][0]\n",
    "              fullPlayerStats[\"totalDriving\"][1] += dataPlayer[\"driving\"][1]\n",
    "\n",
    "              for shot_type in fullPlayerStats[\"players\"][index][\"shots\"]:\n",
    "                fullPlayerStats[\"players\"][index][\"shots\"][shot_type][0] += dataPlayer[\"shots\"][shot_type][0]\n",
    "                fullPlayerStats[\"players\"][index][\"shots\"][shot_type][1] += dataPlayer[\"shots\"][shot_type][1]\n",
    "                fullPlayerStats[\"totalShots\"][shot_type][0] += dataPlayer[\"shots\"][shot_type][0]\n",
    "                fullPlayerStats[\"totalShots\"][shot_type][1] += dataPlayer[\"shots\"][shot_type][1]\n",
    "\n",
    "      \n",
    "      \n",
    "      for defense in data[\"defense\"]:\n",
    "        for defendedShot in data[\"defense\"][defense]:\n",
    "          fullPlayerStats[\"defense\"][defense][defendedShot][0] += data[\"defense\"][defense][defendedShot][0]\n",
    "          fullPlayerStats[\"defense\"][defense][defendedShot][1] += data[\"defense\"][defense][defendedShot][1]\n",
    "\n",
    "  \n",
    "\n",
    "    \n",
    "\n",
    "fullPlayerStats\n",
    "            \n",
    "    \n",
    "        \n",
    "        \n",
    "\n",
    "\n",
    "\n"
   ]
  }
 ],
 "metadata": {
  "kernelspec": {
   "display_name": "Python 3",
   "language": "python",
   "name": "python3"
  },
  "language_info": {
   "codemirror_mode": {
    "name": "ipython",
    "version": 3
   },
   "file_extension": ".py",
   "mimetype": "text/x-python",
   "name": "python",
   "nbconvert_exporter": "python",
   "pygments_lexer": "ipython3",
   "version": "3.10.11"
  }
 },
 "nbformat": 4,
 "nbformat_minor": 2
}
