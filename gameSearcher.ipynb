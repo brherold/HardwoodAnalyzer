{
 "cells": [
  {
   "cell_type": "code",
   "execution_count": 6,
   "metadata": {},
   "outputs": [],
   "source": [
    "from bs4 import BeautifulSoup\n",
    "import requests\n",
    "from pygameAnaylzer import gameAnaylzer\n",
    "\n",
    "\n",
    "#USE PYTHON ANACADONA 3.8.5 to RUN"
   ]
  },
  {
   "cell_type": "code",
   "execution_count": 7,
   "metadata": {},
   "outputs": [],
   "source": [
    "#Gets Team\n",
    "teamCode = input(\"Enter Team Code\")\n",
    "teamScheduleUrl = \"http://onlinecollegebasketball.org/schedule/\"+teamCode\n",
    "page2 = requests.get(teamScheduleUrl)\n",
    "soup2 = BeautifulSoup(page2.text,\"html\")\n",
    "\n"
   ]
  },
  {
   "cell_type": "code",
   "execution_count": 8,
   "metadata": {},
   "outputs": [],
   "source": [
    "#Gets List of All Played Games for Current Year\n",
    "columnList = soup2.find_all(\"tr\")\n",
    "totalGameLinks = []\n",
    "for row in columnList:\n",
    "  rowData = row.find_all(\"td\")\n",
    "  if len(rowData) == 8 and rowData[5].text != \"NPY\":\n",
    "    totalGameLinks.append (\"http://onlinecollegebasketball.org\" + rowData[5].find(\"a\").get(\"href\"))\n",
    "\n",
    "conGameLinks = totalGameLinks[13:43]\n",
    "checker = conGameLinks[2:4]\n",
    "\n"
   ]
  },
  {
   "cell_type": "code",
   "execution_count": 9,
   "metadata": {},
   "outputs": [
    {
     "name": "stderr",
     "output_type": "stream",
     "text": [
      "c:\\Users\\branh\\OneDrive\\Desktop\\Hardwood project\\pygameAnaylzer.py:8: GuessedAtParserWarning: No parser was explicitly specified, so I'm using the best available HTML parser for this system (\"lxml\"). This usually isn't a problem, but if you run this code on another system, or in a different virtual environment, it may use a different parser and behave differently.\n",
      "\n",
      "The code that caused this warning is on line 8 of the file c:\\Users\\branh\\OneDrive\\Desktop\\Hardwood project\\pygameAnaylzer.py. To get rid of this warning, pass the additional argument 'features=\"lxml\"' to the BeautifulSoup constructor.\n",
      "\n",
      "  soup = BeautifulSoup(page.text,\"html\")\n"
     ]
    }
   ],
   "source": [
    "anaylzedGames = []\n",
    "for games in checker:\n",
    "  anaylzedGames.append(gameAnaylzer(games)) \n",
    "\n",
    "#Puts together Game Data for the Given Team for Every Game Played\n",
    "teamTotalData = []\n",
    "for games in anaylzedGames:\n",
    "  if games['awayTeam']['teamCode'] == teamCode:\n",
    "    teamTotalData.append(games['awayTeam'])\n",
    "  else: \n",
    "    teamTotalData.append(games['homeTeam'])\n",
    "\n"
   ]
  },
  {
   "cell_type": "code",
   "execution_count": 10,
   "metadata": {},
   "outputs": [
    {
     "ename": "NameError",
     "evalue": "name 'shot_attempt' is not defined",
     "output_type": "error",
     "traceback": [
      "\u001b[1;31m---------------------------------------------------------------------------\u001b[0m",
      "\u001b[1;31mNameError\u001b[0m                                 Traceback (most recent call last)",
      "\u001b[1;32m<ipython-input-10-176eecb8663d>\u001b[0m in \u001b[0;36m<module>\u001b[1;34m\u001b[0m\n\u001b[0;32m     19\u001b[0m               \u001b[0mfullPlayerStats\u001b[0m\u001b[1;33m[\u001b[0m\u001b[1;34m\"players\"\u001b[0m\u001b[1;33m]\u001b[0m\u001b[1;33m[\u001b[0m\u001b[0mindex\u001b[0m\u001b[1;33m]\u001b[0m\u001b[1;33m[\u001b[0m\u001b[1;34m\"shots\"\u001b[0m\u001b[1;33m]\u001b[0m\u001b[1;33m[\u001b[0m\u001b[0mshot_type\u001b[0m\u001b[1;33m]\u001b[0m\u001b[1;33m[\u001b[0m\u001b[1;36m0\u001b[0m\u001b[1;33m]\u001b[0m \u001b[1;33m+=\u001b[0m \u001b[0mdataPlayer\u001b[0m\u001b[1;33m[\u001b[0m\u001b[1;34m\"shots\"\u001b[0m\u001b[1;33m]\u001b[0m\u001b[1;33m[\u001b[0m\u001b[0mshot_type\u001b[0m\u001b[1;33m]\u001b[0m\u001b[1;33m[\u001b[0m\u001b[1;36m0\u001b[0m\u001b[1;33m]\u001b[0m\u001b[1;33m\u001b[0m\u001b[1;33m\u001b[0m\u001b[0m\n\u001b[0;32m     20\u001b[0m               \u001b[0mfullPlayerStats\u001b[0m\u001b[1;33m[\u001b[0m\u001b[1;34m\"players\"\u001b[0m\u001b[1;33m]\u001b[0m\u001b[1;33m[\u001b[0m\u001b[0mindex\u001b[0m\u001b[1;33m]\u001b[0m\u001b[1;33m[\u001b[0m\u001b[1;34m\"shots\"\u001b[0m\u001b[1;33m]\u001b[0m\u001b[1;33m[\u001b[0m\u001b[0mshot_type\u001b[0m\u001b[1;33m]\u001b[0m\u001b[1;33m[\u001b[0m\u001b[1;36m1\u001b[0m\u001b[1;33m]\u001b[0m \u001b[1;33m+=\u001b[0m \u001b[0mdataPlayer\u001b[0m\u001b[1;33m[\u001b[0m\u001b[1;34m\"shots\"\u001b[0m\u001b[1;33m]\u001b[0m\u001b[1;33m[\u001b[0m\u001b[0mshot_type\u001b[0m\u001b[1;33m]\u001b[0m\u001b[1;33m[\u001b[0m\u001b[1;36m1\u001b[0m\u001b[1;33m]\u001b[0m\u001b[1;33m\u001b[0m\u001b[1;33m\u001b[0m\u001b[0m\n\u001b[1;32m---> 21\u001b[1;33m               \u001b[0mfullPlayerStats\u001b[0m\u001b[1;33m[\u001b[0m\u001b[1;34m\"totalShots\"\u001b[0m\u001b[1;33m]\u001b[0m\u001b[1;33m[\u001b[0m\u001b[0mshot_type\u001b[0m\u001b[1;33m]\u001b[0m\u001b[1;33m[\u001b[0m\u001b[1;36m0\u001b[0m\u001b[1;33m]\u001b[0m \u001b[1;33m+=\u001b[0m \u001b[0mshot_attempt\u001b[0m\u001b[1;33m\u001b[0m\u001b[1;33m\u001b[0m\u001b[0m\n\u001b[0m\u001b[0;32m     22\u001b[0m               \u001b[0mfullPlayerStats\u001b[0m\u001b[1;33m[\u001b[0m\u001b[1;34m\"totalShots\"\u001b[0m\u001b[1;33m]\u001b[0m\u001b[1;33m[\u001b[0m\u001b[0mshot_type\u001b[0m\u001b[1;33m]\u001b[0m\u001b[1;33m[\u001b[0m\u001b[1;36m1\u001b[0m\u001b[1;33m]\u001b[0m \u001b[1;33m+=\u001b[0m \u001b[1;36m1\u001b[0m\u001b[1;33m\u001b[0m\u001b[1;33m\u001b[0m\u001b[0m\n\u001b[0;32m     23\u001b[0m \u001b[1;33m\u001b[0m\u001b[0m\n",
      "\u001b[1;31mNameError\u001b[0m: name 'shot_attempt' is not defined"
     ]
    }
   ],
   "source": [
    "#Calculates Total Season Stats\n",
    "fullPlayerStats = teamTotalData[0]\n",
    "\n",
    "for data in teamTotalData:\n",
    "  if data != fullPlayerStats:\n",
    "    #Now check if a player's name in data is in FullPlayerStats\n",
    "    for dataPlayer in data[\"players\"]:\n",
    "      dataPlayerName = dataPlayer[\"name\"]\n",
    "      if not any(player['name'] == dataPlayerName for player in fullPlayerStats['players']): #If player isn't found in fullPlayerStats add it \n",
    "        fullPlayerStats[\"players\"].append(dataPlayer)\n",
    "      else:\n",
    "        for index, player in enumerate(fullPlayerStats[\"players\"]): # finds index of player in fullPlayerStats\n",
    "          if player[\"name\"] == dataPlayerName:\n",
    "            fullPlayerStats[\"players\"][index][\"driving\"][0] += dataPlayer[\"driving\"][0]\n",
    "            fullPlayerStats[\"players\"][index][\"driving\"][1] += dataPlayer[\"driving\"][1]\n",
    "            fullPlayerStats[\"totalDriving\"][0] += dataPlayer[\"driving\"][0]\n",
    "            fullPlayerStats[\"totalDriving\"][1] += dataPlayer[\"driving\"][1]\n",
    "            for shot_type in fullPlayerStats[\"players\"][index][\"shots\"]:\n",
    "              fullPlayerStats[\"players\"][index][\"shots\"][shot_type][0] += dataPlayer[\"shots\"][shot_type][0]\n",
    "              fullPlayerStats[\"players\"][index][\"shots\"][shot_type][1] += dataPlayer[\"shots\"][shot_type][1]\n",
    "              fullPlayerStats[\"totalShots\"][shot_type][0] += dataPlayer[\"shots\"][shot_type][0]\n",
    "              fullPlayerStats[\"totalShots\"][shot_type][1] += dataPlayer[\"shots\"][shot_type][1]\n",
    "\n",
    "fullPlayerStats\n",
    "            \n",
    "    \n",
    "        \n",
    "        \n",
    "\n",
    "\n",
    "\n"
   ]
  }
 ],
 "metadata": {
  "kernelspec": {
   "display_name": "base",
   "language": "python",
   "name": "python3"
  },
  "language_info": {
   "codemirror_mode": {
    "name": "ipython",
    "version": 3
   },
   "file_extension": ".py",
   "mimetype": "text/x-python",
   "name": "python",
   "nbconvert_exporter": "python",
   "pygments_lexer": "ipython3",
   "version": "3.8.5"
  }
 },
 "nbformat": 4,
 "nbformat_minor": 2
}
