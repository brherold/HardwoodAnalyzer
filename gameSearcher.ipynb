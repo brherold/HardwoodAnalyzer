{
 "cells": [
  {
   "cell_type": "code",
   "execution_count": 517,
   "metadata": {},
   "outputs": [],
   "source": [
    "from bs4 import BeautifulSoup\n",
    "import requests\n",
    "from pygameAnaylzer import gameAnaylzer\n",
    "\n",
    "\n",
    "#USE PYTHON ANACADONA 3.8.5 to RUN"
   ]
  },
  {
   "cell_type": "code",
   "execution_count": 518,
   "metadata": {},
   "outputs": [],
   "source": [
    "#Gets Team\n",
    "teamCode = input(\"Enter Team Code\")\n",
    "teamScheduleUrl = \"http://onlinecollegebasketball.org/schedule/\"+teamCode\n",
    "page2 = requests.get(teamScheduleUrl)\n",
    "soup2 = BeautifulSoup(page2.text,\"html\")\n",
    "\n"
   ]
  },
  {
   "cell_type": "code",
   "execution_count": 519,
   "metadata": {},
   "outputs": [],
   "source": [
    "#Gets List of All Played Games for Current Year\n",
    "columnList = soup2.find_all(\"tr\")\n",
    "totalGameLinks = []\n",
    "for row in columnList:\n",
    "  rowData = row.find_all(\"td\")\n",
    "  if len(rowData) == 8 and rowData[5].text != \"NPY\":\n",
    "    totalGameLinks.append (\"http://onlinecollegebasketball.org\" + rowData[5].find(\"a\").get(\"href\"))\n",
    "\n",
    "conGameLinks = totalGameLinks[13:43]\n",
    "checker = conGameLinks[2:4]\n",
    "\n"
   ]
  },
  {
   "cell_type": "code",
   "execution_count": 520,
   "metadata": {},
   "outputs": [
    {
     "name": "stderr",
     "output_type": "stream",
     "text": [
      "c:\\Users\\branh\\OneDrive\\Desktop\\Hardwood project\\pygameAnaylzer.py:8: GuessedAtParserWarning: No parser was explicitly specified, so I'm using the best available HTML parser for this system (\"lxml\"). This usually isn't a problem, but if you run this code on another system, or in a different virtual environment, it may use a different parser and behave differently.\n",
      "\n",
      "The code that caused this warning is on line 8 of the file c:\\Users\\branh\\OneDrive\\Desktop\\Hardwood project\\pygameAnaylzer.py. To get rid of this warning, pass the additional argument 'features=\"lxml\"' to the BeautifulSoup constructor.\n",
      "\n",
      "  soup = BeautifulSoup(page.text,\"html\")\n"
     ]
    },
    {
     "name": "stdout",
     "output_type": "stream",
     "text": [
      "{'awayTeam': {'name': 'Monmouth Hawks', 'teamCode': '242', 'players': [{'name': 'Bone', 'position': 'SF', 'shots': {'Finishing': [2, 4], 'Inside Shot': [2, 3], 'Mid-Range': [0, 0], '3-Pointer': [1, 1]}, 'driving': [0, 0]}, {'name': 'Comer', 'position': 'PF', 'shots': {'Finishing': [0, 0], 'Inside Shot': [2, 3], 'Mid-Range': [0, 1], '3-Pointer': [0, 0]}, 'driving': [0, 0]}, {'name': 'Hill', 'position': 'C', 'shots': {'Finishing': [0, 0], 'Inside Shot': [2, 10], 'Mid-Range': [0, 1], '3-Pointer': [0, 1]}, 'driving': [1, 2]}, {'name': 'Low', 'position': 'SG', 'shots': {'Finishing': [1, 1], 'Inside Shot': [0, 0], 'Mid-Range': [0, 1], '3-Pointer': [1, 5]}, 'driving': [0, 0]}, {'name': 'McAlister', 'position': 'PG', 'shots': {'Finishing': [1, 3], 'Inside Shot': [2, 3], 'Mid-Range': [2, 5], '3-Pointer': [0, 5]}, 'driving': [0, 0]}, {'name': 'Andrews', 'position': 'C', 'shots': {'Finishing': [0, 0], 'Inside Shot': [0, 0], 'Mid-Range': [1, 1], '3-Pointer': [0, 0]}, 'driving': [0, 0]}, {'name': 'Daly', 'position': 'SF', 'shots': {'Finishing': [0, 0], 'Inside Shot': [0, 0], 'Mid-Range': [0, 1], '3-Pointer': [0, 0]}, 'driving': [2, 5]}, {'name': 'Holmes', 'position': 'SG', 'shots': {'Finishing': [0, 0], 'Inside Shot': [0, 0], 'Mid-Range': [0, 0], '3-Pointer': [1, 1]}, 'driving': [0, 0]}, {'name': 'Howell', 'position': 'PF', 'shots': {'Finishing': [0, 0], 'Inside Shot': [1, 1], 'Mid-Range': [0, 0], '3-Pointer': [0, 0]}, 'driving': [0, 0]}]}, 'homeTeam': {'name': 'Assumption Greyhounds', 'teamCode': '533', 'players': [{'name': 'Hill', 'position': 'SF', 'shots': {'Finishing': [0, 0], 'Inside Shot': [0, 0], 'Mid-Range': [1, 4], '3-Pointer': [0, 0]}, 'driving': [1, 1]}, {'name': 'Bird', 'position': 'PF', 'shots': {'Finishing': [0, 0], 'Inside Shot': [6, 8], 'Mid-Range': [0, 0], '3-Pointer': [0, 2]}, 'driving': [0, 0]}, {'name': 'Pollard', 'position': 'C', 'shots': {'Finishing': [0, 0], 'Inside Shot': [2, 7], 'Mid-Range': [0, 1], '3-Pointer': [0, 1]}, 'driving': [0, 0]}, {'name': 'Parrott', 'position': 'SG', 'shots': {'Finishing': [0, 0], 'Inside Shot': [0, 1], 'Mid-Range': [3, 4], '3-Pointer': [2, 5]}, 'driving': [0, 0]}, {'name': 'Thiel', 'position': 'PG', 'shots': {'Finishing': [0, 0], 'Inside Shot': [0, 0], 'Mid-Range': [0, 1], '3-Pointer': [2, 3]}, 'driving': [2, 3]}, {'name': 'Jamison', 'position': 'PG', 'shots': {'Finishing': [0, 1], 'Inside Shot': [4, 4], 'Mid-Range': [0, 2], '3-Pointer': [0, 0]}, 'driving': [1, 2]}, {'name': 'Mack', 'position': 'PF', 'shots': {'Finishing': [0, 0], 'Inside Shot': [2, 2], 'Mid-Range': [0, 1], '3-Pointer': [0, 0]}, 'driving': [0, 1]}, {'name': 'Weir', 'position': 'SG', 'shots': {'Finishing': [0, 0], 'Inside Shot': [0, 1], 'Mid-Range': [0, 0], '3-Pointer': [3, 7]}, 'driving': [0, 0]}]}}\n",
      "{'awayTeam': {'name': 'Assumption Greyhounds', 'teamCode': '533', 'players': [{'name': 'Hill', 'position': 'SF', 'shots': {'Finishing': [0, 2], 'Inside Shot': [1, 4], 'Mid-Range': [5, 8], '3-Pointer': [0, 0]}, 'driving': [3, 4]}, {'name': 'Bird', 'position': 'PF', 'shots': {'Finishing': [0, 0], 'Inside Shot': [7, 9], 'Mid-Range': [0, 1], '3-Pointer': [0, 2]}, 'driving': [0, 2]}, {'name': 'Martin', 'position': 'C', 'shots': {'Finishing': [0, 0], 'Inside Shot': [3, 7], 'Mid-Range': [0, 1], '3-Pointer': [0, 1]}, 'driving': [0, 0]}, {'name': 'Parrott', 'position': 'SG', 'shots': {'Finishing': [1, 2], 'Inside Shot': [0, 1], 'Mid-Range': [1, 1], '3-Pointer': [1, 2]}, 'driving': [2, 2]}, {'name': 'Thiel', 'position': 'PG', 'shots': {'Finishing': [1, 1], 'Inside Shot': [0, 0], 'Mid-Range': [2, 3], '3-Pointer': [2, 2]}, 'driving': [1, 3]}, {'name': 'Jamison', 'position': 'C', 'shots': {'Finishing': [0, 0], 'Inside Shot': [0, 0], 'Mid-Range': [3, 4], '3-Pointer': [0, 0]}, 'driving': [1, 5]}, {'name': 'Mack', 'position': 'PF', 'shots': {'Finishing': [0, 0], 'Inside Shot': [1, 5], 'Mid-Range': [0, 0], '3-Pointer': [3, 3]}, 'driving': [0, 0]}, {'name': 'Weir', 'position': 'SF', 'shots': {'Finishing': [0, 0], 'Inside Shot': [0, 0], 'Mid-Range': [1, 4], '3-Pointer': [0, 2]}, 'driving': [1, 1]}]}, 'homeTeam': {'name': 'Hawaii Rainbow Warriors', 'teamCode': '169', 'players': [{'name': 'Bright', 'position': 'SF', 'shots': {'Finishing': [0, 0], 'Inside Shot': [2, 5], 'Mid-Range': [0, 0], '3-Pointer': [0, 2]}, 'driving': [0, 0]}, {'name': 'Kos', 'position': 'PF', 'shots': {'Finishing': [0, 0], 'Inside Shot': [1, 5], 'Mid-Range': [0, 1], '3-Pointer': [1, 2]}, 'driving': [0, 0]}, {'name': 'Wong', 'position': 'C', 'shots': {'Finishing': [0, 0], 'Inside Shot': [5, 11], 'Mid-Range': [0, 0], '3-Pointer': [0, 0]}, 'driving': [0, 0]}, {'name': 'Eller', 'position': 'SG', 'shots': {'Finishing': [0, 0], 'Inside Shot': [0, 0], 'Mid-Range': [1, 2], '3-Pointer': [3, 4]}, 'driving': [2, 7]}, {'name': 'Ford', 'position': 'PG', 'shots': {'Finishing': [1, 5], 'Inside Shot': [0, 2], 'Mid-Range': [0, 3], '3-Pointer': [0, 1]}, 'driving': [6, 15]}, {'name': 'Nkono', 'position': 'PF', 'shots': {'Finishing': [0, 0], 'Inside Shot': [4, 5], 'Mid-Range': [0, 0], '3-Pointer': [0, 0]}, 'driving': [0, 0]}, {'name': 'Gillette', 'position': 'PF', 'shots': {'Finishing': [0, 0], 'Inside Shot': [1, 1], 'Mid-Range': [0, 0], '3-Pointer': [0, 0]}, 'driving': [0, 0]}, {'name': 'Bauer', 'position': 'SF', 'shots': {'Finishing': [0, 0], 'Inside Shot': [0, 0], 'Mid-Range': [1, 2], '3-Pointer': [1, 1]}, 'driving': [0, 1]}, {'name': 'Eldrige', 'position': 'SG', 'shots': {'Finishing': [0, 0], 'Inside Shot': [0, 0], 'Mid-Range': [0, 0], '3-Pointer': [0, 1]}, 'driving': [0, 0]}, {'name': 'Ponder', 'position': 'PG', 'shots': {'Finishing': [1, 1], 'Inside Shot': [0, 0], 'Mid-Range': [2, 3], '3-Pointer': [0, 0]}, 'driving': [1, 3]}]}}\n"
     ]
    }
   ],
   "source": [
    "anaylzedGames = []\n",
    "for games in checker:\n",
    "  anaylzedGames.append(gameAnaylzer(games)) \n",
    "\n",
    "#Puts together Game Data for the Given Team for Every Game Played\n",
    "teamTotalData = []\n",
    "for games in anaylzedGames:\n",
    "  if games['awayTeam']['teamCode'] == teamCode:\n",
    "    teamTotalData.append(games['awayTeam'])\n",
    "  else: \n",
    "    teamTotalData.append(games['homeTeam'])\n",
    "  print(games)\n",
    "\n"
   ]
  },
  {
   "cell_type": "code",
   "execution_count": 521,
   "metadata": {},
   "outputs": [
    {
     "data": {
      "text/plain": [
       "{'name': 'Assumption Greyhounds',\n",
       " 'teamCode': '533',\n",
       " 'players': [{'name': 'Hill',\n",
       "   'position': 'SF',\n",
       "   'shots': {'Finishing': [0, 2],\n",
       "    'Inside Shot': [1, 4],\n",
       "    'Mid-Range': [6, 12],\n",
       "    '3-Pointer': [0, 0]},\n",
       "   'driving': [4, 5]},\n",
       "  {'name': 'Bird',\n",
       "   'position': 'PF',\n",
       "   'shots': {'Finishing': [0, 0],\n",
       "    'Inside Shot': [13, 17],\n",
       "    'Mid-Range': [0, 1],\n",
       "    '3-Pointer': [0, 4]},\n",
       "   'driving': [0, 2]},\n",
       "  {'name': 'Pollard',\n",
       "   'position': 'C',\n",
       "   'shots': {'Finishing': [0, 0],\n",
       "    'Inside Shot': [2, 7],\n",
       "    'Mid-Range': [0, 1],\n",
       "    '3-Pointer': [0, 1]},\n",
       "   'driving': [0, 0]},\n",
       "  {'name': 'Parrott',\n",
       "   'position': 'SG',\n",
       "   'shots': {'Finishing': [1, 2],\n",
       "    'Inside Shot': [0, 2],\n",
       "    'Mid-Range': [4, 5],\n",
       "    '3-Pointer': [3, 7]},\n",
       "   'driving': [2, 2]},\n",
       "  {'name': 'Thiel',\n",
       "   'position': 'PG',\n",
       "   'shots': {'Finishing': [1, 1],\n",
       "    'Inside Shot': [0, 0],\n",
       "    'Mid-Range': [2, 4],\n",
       "    '3-Pointer': [4, 5]},\n",
       "   'driving': [3, 6]},\n",
       "  {'name': 'Jamison',\n",
       "   'position': 'PG',\n",
       "   'shots': {'Finishing': [0, 1],\n",
       "    'Inside Shot': [4, 4],\n",
       "    'Mid-Range': [3, 6],\n",
       "    '3-Pointer': [0, 0]},\n",
       "   'driving': [2, 7]},\n",
       "  {'name': 'Mack',\n",
       "   'position': 'PF',\n",
       "   'shots': {'Finishing': [0, 0],\n",
       "    'Inside Shot': [3, 7],\n",
       "    'Mid-Range': [0, 1],\n",
       "    '3-Pointer': [3, 3]},\n",
       "   'driving': [0, 1]},\n",
       "  {'name': 'Weir',\n",
       "   'position': 'SG',\n",
       "   'shots': {'Finishing': [0, 0],\n",
       "    'Inside Shot': [0, 1],\n",
       "    'Mid-Range': [1, 4],\n",
       "    '3-Pointer': [3, 9]},\n",
       "   'driving': [1, 1]},\n",
       "  {'name': 'Martin',\n",
       "   'position': 'C',\n",
       "   'shots': {'Finishing': [0, 0],\n",
       "    'Inside Shot': [3, 7],\n",
       "    'Mid-Range': [0, 1],\n",
       "    '3-Pointer': [0, 1]},\n",
       "   'driving': [0, 0]}]}"
      ]
     },
     "execution_count": 521,
     "metadata": {},
     "output_type": "execute_result"
    }
   ],
   "source": [
    "#Calculates Total Season Stats\n",
    "fullPlayerStats = teamTotalData[0]\n",
    "\n",
    "for data in teamTotalData:\n",
    "  if data != fullPlayerStats:\n",
    "    #Now check if a player's name in data is in FullPlayerStats\n",
    "    for dataPlayer in data[\"players\"]:\n",
    "      dataPlayerName = dataPlayer[\"name\"]\n",
    "      if not any(player['name'] == dataPlayerName for player in fullPlayerStats['players']): #If player isn't found in fullPlayerStats add it \n",
    "        fullPlayerStats[\"players\"].append(dataPlayer)\n",
    "      else:\n",
    "        for index, player in enumerate(fullPlayerStats[\"players\"]): # finds index of player in fullPlayerStats\n",
    "          if player[\"name\"] == dataPlayerName:\n",
    "            #print(fullPlayerStats[\"players\"][index])\n",
    "            #print(dataPlayer)\n",
    "            fullPlayerStats[\"players\"][index][\"driving\"][0] += dataPlayer[\"driving\"][0]\n",
    "            fullPlayerStats[\"players\"][index][\"driving\"][1] += dataPlayer[\"driving\"][1]\n",
    "            for shot_type in fullPlayerStats[\"players\"][index][\"shots\"]:\n",
    "              fullPlayerStats[\"players\"][index][\"shots\"][shot_type][0] += dataPlayer[\"shots\"][shot_type][0]\n",
    "              fullPlayerStats[\"players\"][index][\"shots\"][shot_type][1] += dataPlayer[\"shots\"][shot_type][1]\n",
    "            #print(fullPlayerStats[\"players\"][index])\n",
    "            #print(\"\")\n",
    "\n",
    "fullPlayerStats\n",
    "            \n",
    "    \n",
    "        \n",
    "        \n",
    "\n",
    "\n",
    "\n"
   ]
  }
 ],
 "metadata": {
  "kernelspec": {
   "display_name": "base",
   "language": "python",
   "name": "python3"
  },
  "language_info": {
   "codemirror_mode": {
    "name": "ipython",
    "version": 3
   },
   "file_extension": ".py",
   "mimetype": "text/x-python",
   "name": "python",
   "nbconvert_exporter": "python",
   "pygments_lexer": "ipython3",
   "version": "3.8.5"
  }
 },
 "nbformat": 4,
 "nbformat_minor": 2
}
